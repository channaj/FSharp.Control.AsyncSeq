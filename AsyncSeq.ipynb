
        {
            "cells": [
          {
           "cell_type": "code",
           "metadata": {},
            "execution_count": null, "outputs": [], 
           "source": ["#r \"nuget: FSharp.Control.AsyncSeq,{{package-version}}\"\n"]
          }
,
          {
           "cell_type": "markdown",
           "metadata": {},
           
           "source": ["[![Binder](https://mybinder.org/badge_logo.svg)](https://mybinder.org/v2/gh/fsprojects/FSharp.Control.AsyncSeq/gh-pages?filepath=AsyncSeq.ipynb)\n",
"\n",
"# F# Async: FSharp.Control.AsyncSeq\n",
"\n",
"An AsyncSeq is a sequence in which individual elements are retrieved using an `Async` computation.\n",
"It is similar to `seq\u003c\u0027a\u003e` in that subsequent elements are pulled on-demand.\n",
"`AsyncSeq` also bears similarity to `IObservable\u003c\u0027a\u003e` with the former being based on an \"asynchronous pull\" and the\n",
"latter based on a \"synchronous push\". Analogs for most operations defined for `Seq`, `List` and `IObservable` are also defined for \n",
"`AsyncSeq`. The power of `AsyncSeq` lies in that many of these operations also have analogs based on `Async` \n",
"allowing composition of complex asynchronous workflows.\n",
"\n",
"The `AsyncSeq` type is located in the `FSharp.Control.AsyncSeq.dll` assembly which can be loaded in F# Interactive as follows:\n",
"\n"]
          }
,
          {
           "cell_type": "code",
           "metadata": {},
            "execution_count": 2, "outputs": [], 
           "source": ["#r \"../../../bin/FSharp.Control.AsyncSeq.dll\"\n",
"open FSharp.Control\n"]
          }
,
          {
           "cell_type": "markdown",
           "metadata": {},
           
           "source": ["### Generating asynchronous sequences\n",
"\n",
"An `AsyncSeq\u003c\u0027a\u003e` can be generated using computation expression syntax much like `seq\u003c\u0027a\u003e`:\n",
"\n"]
          }
,
          {
           "cell_type": "code",
           "metadata": {},
            "execution_count": 3, "outputs": [], 
           "source": ["let asyncS = asyncSeq {\n",
"  yield 1\n",
"  yield 2\n",
"}\n"]
          }
,
          {
           "cell_type": "markdown",
           "metadata": {},
           
           "source": ["Another way to generate an asynchronous sequence is using the `Async.unfoldAsync` function. This\n",
"function accepts as an argument a function which can generate individual elements based on a state and \n",
"signal completion of the sequence.\n",
"\n",
"For example, suppose that you\u0027re writing a program which consumes the Twitter API and stores tweets\n",
"which satisfy some criteria into a database. There are several asynchronous request-reply interactions at play - \n",
"one to retrieve a batch of tweets from the Twitter API, another to determine whether a tweet satisfies some\n",
"criteria and finally an operation to write the desired tweet to a database. \n",
"\n",
"Given the type `Tweet` to represent an individual tweet, the operation to retrieve a batch of tweets can \n",
"be modeled with type `int -\u003e Async\u003c(Tweet[] * int) option\u003e` where the incoming `int` represents the \n",
"offset into the tweet stream. The asynchronous result is an `Option` which when `None` indicates the\n",
"end of the stream, and otherwise contains the batch of retrieved tweets as well as the next offset.\n",
"\n",
"The above function to retrieve a batch of tweets can be used to generate an asynchronous sequence \n",
"of tweet batches as follows:\n",
"\n"]
          }
,
          {
           "cell_type": "code",
           "metadata": {},
            "execution_count": 4, "outputs": [], 
           "source": ["type Tweet = {\n",
"  user : string\n",
"  message : string\n",
"}\n",
"\n",
"let getTweetBatch (offset:int) : Async\u003c(Tweet[] * int) option\u003e = \n",
"  failwith \"TODO: call Twitter API\"\n",
"\n",
"let tweetBatches : AsyncSeq\u003cTweet[]\u003e = \n",
"  AsyncSeq.unfoldAsync getTweetBatch 0\n"]
          }
,
          {
           "cell_type": "markdown",
           "metadata": {},
           
           "source": ["The asynchronous sequence `tweetBatches` will when iterated, incrementally consume the entire tweet stream.\n",
"\n",
"Next, suppose that the tweet filtering function makes a call to a web service which determines\n",
"whether a particular tweet is of interest and should be stored in the database. This function can be modeled with\n",
"type `Tweet -\u003e Async\u003cbool\u003e`. We can flatten the `tweetBatches` sequence and then filter it as follows:\n",
"\n"]
          }
,
          {
           "cell_type": "code",
           "metadata": {},
            "execution_count": 5, "outputs": [], 
           "source": ["let filterTweet (t:Tweet) : Async\u003cbool\u003e =\n",
"  failwith \"TODO: call web service\"\n",
"\n",
"let filteredTweets : AsyncSeq\u003cTweet\u003e = \n",
"  tweetBatches\n",
"  |\u003e AsyncSeq.concatSeq // flatten\n",
"  |\u003e AsyncSeq.filterAsync filterTweet // filter\n"]
          }
,
          {
           "cell_type": "markdown",
           "metadata": {},
           
           "source": ["When the resulting sequence `filteredTweets` is consumed, it will lazily consume the underlying\n",
"sequence `tweetBatches`, select individual tweets and filter them using the function `filterTweets`.\n",
"\n",
"Finally, the function which stores a tweet in the database can be modeled by type `Tweet -\u003e Async\u003cunit\u003e`.\n",
"We can store all filtered tweets as follows:\n",
"\n"]
          }
,
          {
           "cell_type": "code",
           "metadata": {},
            "execution_count": 6, "outputs": [], 
           "source": ["let storeTweet (t:Tweet) : Async\u003cunit\u003e =\n",
"  failwith \"TODO: call database\"\n",
"\n",
"let storeFilteredTweets : Async\u003cunit\u003e =\n",
"  filteredTweets\n",
"  |\u003e AsyncSeq.iterAsync storeTweet\n"]
          }
,
          {
           "cell_type": "markdown",
           "metadata": {},
           
           "source": ["Note that the value `storeFilteredTweets` is an asynchronous computation of type `Async\u003cunit\u003e`. At this point,\n",
"it is a *representation* of the workflow which consists of reading batches of tweets, filtering them and storing them\n",
"in the database. When executed, the workflow will consume the entire tweet stream. The entire workflow can be\n",
"succinctly declared and executed as follows:\n",
"\n"]
          }
,
          {
           "cell_type": "code",
           "metadata": {},
            "execution_count": 7, "outputs": [], 
           "source": ["AsyncSeq.unfoldAsync getTweetBatch 0\n",
"|\u003e AsyncSeq.concatSeq\n",
"|\u003e AsyncSeq.filterAsync filterTweet\n",
"|\u003e AsyncSeq.iterAsync storeTweet\n",
"|\u003e Async.RunSynchronously\n"]
          }
,
          {
           "cell_type": "markdown",
           "metadata": {},
           
           "source": ["The above snippet effectively orchestrates several asynchronous request-reply interactions into a cohesive unit\n",
"composed using familiar operations on sequences. Furthermore, it will be executed efficiently in a non-blocking manner.\n",
"\n",
"### Comparison with seq\u003c\u0027a\u003e\n",
"\n",
"The central difference between `seq\u003c\u0027a\u003e` and `AsyncSeq\u003c\u0027a\u003e` can be illustrated by introducing the notion of time.\n",
"Suppose that generating subsequent elements of a sequence requires an IO-bound operation. Invoking long \n",
"running IO-bound operations from within a `seq\u003c\u0027a\u003e` will *block* the thread which calls `MoveNext` on the \n",
"corresponding `IEnumerator`. An `AsyncSeq` on the other hand can use facilities provided by the F# `Async` type to make \n",
"more efficient use of system resources.\n",
"\n"]
          }
,
          {
           "cell_type": "code",
           "metadata": {},
            "execution_count": 8, "outputs": [], 
           "source": ["let withTime = seq {\n",
"  System.Threading.Thread.Sleep(1000) // calling thread will block\n",
"  yield 1\n",
"  System.Threading.Thread.Sleep(1000) // calling thread will block\n",
"  yield 1\n",
"}\n",
"\n",
"let withTime\u0027 = asyncSeq {\n",
"  do! Async.Sleep 1000 // non-blocking sleep\n",
"  yield 1\n",
"  do! Async.Sleep 1000 // non-blocking sleep\n",
"  yield 2\n",
"}\n"]
          }
,
          {
           "cell_type": "markdown",
           "metadata": {},
           
           "source": ["When the asynchronous sequence `withTime\u0027` is iterated, the calls to `Async.Sleep` won\u0027t block threads. Instead,\n",
"the *continuation* of the sequence will be scheduled by `Async` while the calling thread will be free to perform other work. \n",
"Overall, a `seq\u003c\u0027a\u003e` can be viewed as a special case of an `AsyncSeq\u003c\u0027a\u003e` where subsequent elements are retrieved\n",
"in a blocking manner.\n",
"\n",
"### Comparison with IObservable\u003c\u0027a\u003e\n",
"\n",
"Both `IObservable\u003c\u0027a\u003e` and `AsyncSeq\u003c\u0027a\u003e` represent collections of items and both provide similar operations\n",
"for transformation and composition. The central difference between the two is that the former uses a *synchronous push*\n",
"to a subscriber and the latter uses an *asynchronous pull* by a consumer. \n",
"Consumers of an `IObservable\u003c\u0027a\u003e` *subscribe* to receive notifications about\n",
"new items or the end of the sequence. By contrast, consumers of an `AsyncSeq\u003c\u0027a\u003e` *asynchronously retrieve* subsequent items on their own\n",
"terms. Some domains are more naturally modeled with one or the other, however it is less clear which is a more\n",
"suitable tool for a specific task. In many cases, a combination of the two provides the optimal solution and \n",
"restricting yourself to one, while simplifying the programming model, can lead one to view all problems as a nail.\n",
"\n",
"A more specific difference between the two is that `IObservable\u003c\u0027a\u003e` subscribers have the basic type `\u0027a -\u003e unit` \n",
"and are therefore inherently synchronous and imperative. The observer can certainly make a blocking call, but this \n",
"can defeat the purpose of the observable sequence all together. Alternatively, the observer can spawn an operation, but\n",
"this can break composition because one can no longer rely on the observer returning to determine that it has \n",
"completed. With the observable model however, we can model blocking operations through composition on sequences rather\n",
"than observers.\n",
"\n",
"To illustrate, let\u0027s try to implement the above Tweet retrieval, filtering and storage workflow using observable sequences.\n",
"Suppose we already have an observable sequence representing tweets `IObservable\u003cTweet\u003e` and we simply wish \n",
"to filter it and store the resulting tweets. The function `Observable.filter` allows one to filter observable\n",
"sequences based on a predicate, however in this case it doesn\u0027t quite cut it because the predicate passed to it must\n",
"be synchronous `\u0027a -\u003e bool`:\n",
"\n"]
          }
,
          {
           "cell_type": "code",
           "metadata": {},
            "execution_count": 9, "outputs": [], 
           "source": ["open System\n",
"\n",
"let tweetsObs : IObservable\u003cTweet\u003e =\n",
"  failwith \"TODO: create observable\"\n",
"\n",
"let filteredTweetsObs =\n",
"  tweetsObs\n",
"  |\u003e Observable.filter (filterTweet \u003e\u003e Async.RunSynchronously) // blocking IO-call!\n"]
          }
,
          {
           "cell_type": "markdown",
           "metadata": {},
           
           "source": ["To remedy the blocking IO-call we can better adapt the filtering function to the `IObservable\u003c\u0027a\u003e` model. A value\n",
"of type `Async\u003c\u0027a\u003e` can be modeled as an `IObservable\u003c\u0027a\u003e` with one element. Suppose that we have \n",
"`Tweet -\u003e IObservable\u003cbool\u003e`. We can define a few helper operators on observables to allow filtering using\n",
"an asynchronous predicate as follows:\n",
"\n"]
          }
,
          {
           "cell_type": "code",
           "metadata": {},
            "execution_count": 10, "outputs": [], 
           "source": ["module Observable =\n",
"  \n",
"  /// a |\u003e Async.StartAsTask |\u003e (fun t -\u003e t.ToObservable())\n",
"  let ofAsync (a:Async\u003c\u0027a\u003e) : IObservable\u003c\u0027a\u003e =\n",
"    failwith \"TODO\"\n",
"\n",
"  /// Observable.SelectMany\n",
"  let bind (f:\u0027a -\u003e IObservable\u003c\u0027b\u003e) (o:IObservable\u003c\u0027a\u003e) : IObservable\u003c\u0027b\u003e =\n",
"    failwith \"TODO\"\n",
"\n",
"  /// Filter an observable sequence using a predicate producing a observable\n",
"  /// which emits a single boolean value.\n",
"  let filterObs (f:\u0027a -\u003e IObservable\u003cbool\u003e) : IObservable\u003c\u0027a\u003e -\u003e IObservable\u003c\u0027a\u003e =\n",
"    bind \u003c| fun a -\u003e \n",
"      f a\n",
"      |\u003e Observable.choose (function\n",
"        | true -\u003e Some a\n",
"        | false -\u003e None\n",
"      )\n",
"  \n",
"  /// Filter an observable sequence using a predicate which returns an async\n",
"  /// computation producing a boolean value.\n",
"  let filterAsync (f:\u0027a -\u003e Async\u003cbool\u003e) : IObservable\u003c\u0027a\u003e -\u003e IObservable\u003c\u0027a\u003e =\n",
"    filterObs (f \u003e\u003e ofAsync)\n",
"\n",
"  /// Maps over an observable sequence using an async-returning function.\n",
"  let mapAsync (f:\u0027a -\u003e Async\u003c\u0027b\u003e) : IObservable\u003c\u0027a\u003e -\u003e IObservable\u003c\u0027b\u003e =\n",
"    bind (f \u003e\u003e ofAsync)\n",
"\n",
"let filteredTweetsObs\u0027 : IObservable\u003cTweet\u003e =\n",
"  filteredTweetsObs\n",
"  |\u003e Observable.filterAsync filterTweet\n"]
          }
,
          {
           "cell_type": "markdown",
           "metadata": {},
           
           "source": ["With a little effort, we were able to adapt `IObservable\u003c\u0027a\u003e` to our needs. Next let\u0027s try implementing the storage of\n",
"filtered tweets. Again, we can adapt the function `storeTweet` defined above to the observable model and bind the\n",
"observable of filtered tweets to it:\n",
"\n"]
          }
,
          {
           "cell_type": "code",
           "metadata": {},
            "execution_count": 11, "outputs": [], 
           "source": ["let storedTweetsObs : IObservable\u003cunit\u003e =\n",
"  filteredTweetsObs\u0027\n",
"  |\u003e Observable.mapAsync storeTweet\n"]
          }
,
          {
           "cell_type": "markdown",
           "metadata": {},
           
           "source": ["The observable sequence `storedTweetsObs` will produces a value each time a filtered tweet is stored. The entire\n",
"workflow can be expressed as follows:\n",
"\n"]
          }
,
          {
           "cell_type": "code",
           "metadata": {},
            "execution_count": 12, "outputs": [], 
           "source": ["let storedTeetsObs\u0027 : IObservable\u003cunit\u003e =\n",
"  tweetsObs\n",
"  |\u003e Observable.filterAsync filterTweet\n",
"  |\u003e Observable.mapAsync storeTweet\n"]
          }
,
          {
           "cell_type": "markdown",
           "metadata": {},
           
           "source": ["Overall, both solutions are succinct and composable and deciding which one to use can ultimately be a matter of preference. \n",
"Some things to consider are the \"synchronous push\" vs. \"asynchronous pull\" semantics. On the one hand, tweets are pushed based - the consumer has no control \n",
"over their generation. On the other hand, the program at hand will process the tweets on its own terms regardless of how quickly \n",
"they are being generated. Moreover, the underlying Twitter API will likely utilize a request-reply protocol to retrieve batches of \n",
"tweets from persistent storage. As such, the distinction between \"synchronous push\" vs. \"asynchronous pull\" becomes less interesting. If the underlying source \n",
"is truly push-based, then one can buffer its output and consume it using an asynchronous sequence. If the underlying source is pull-based, \n",
"then one can turn it into an observable sequence by first pulling, then pushing. Note however that in a true real-time reactive system, \n",
"notifications must be pushed immediately without delay.\n",
"\n",
"Upon closer inspection, the consumption approaches between the two models aren\u0027t all too different. While `AsyncSeq` is based on an asynchronous-pull operation,\n",
"it is usually consumed using an operator such as `AsyncSeq.iterAsync` as shown above. This is a function of type \n",
"`(\u0027a -\u003e Async\u003cunit\u003e) -\u003e AsyncSeq\u003c\u0027a\u003e -\u003e Async\u003cunit\u003e` where the first argument is a function `\u0027a -\u003e Async\u003cunit\u003e` which performs \n",
"some work on an item of the sequence and is applied repeatedly to subsequent items. In a sense, `iterAsync` *pushes* values to this \n",
"function. The primary difference from observers of observable sequences is the return type `Async\u003cunit\u003e` rather than simply `unit`.\n",
"\n",
"### Performance Considerations\n",
"\n",
"While an asynchronous computation obviates the need to block an OS thread for the duration of an operation, it isn\u0027t always the case\n",
"that this will improve the overall performance of an application. Note however that an async computation does not *require* a\n",
"non-blocking operation, it simply allows for it. Also of note is that unlike calling `IEnumerable.MoveNext()`, consuming\n",
"an item from an asynchronous sequence requires several allocations. Usually this is greatly outweighed by the\n",
"benefits, it can make a difference in some scenarios.\n",
"\n",
"\n",
"## Related Articles\n",
"\n",
" * [Programming with F# asynchronous sequences](http://tomasp.net/blog/async-sequences.aspx/)\n",
"\n",
"\n"]
          }],
            "metadata": {
            "kernelspec": {"display_name": ".NET (F#)", "language": "F#", "name": ".net-fsharp"},
            "langauge_info": {
        "file_extension": ".fs",
        "mimetype": "text/x-fsharp",
        "name": "C#",
        "pygments_lexer": "fsharp",
        "version": "4.5"
        }
        },
            "nbformat": 4,
            "nbformat_minor": 1
        }
        

